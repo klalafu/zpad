{
 "cells": [
  {
   "cell_type": "markdown",
   "id": "0c9729c0-2615-4746-bd4e-62010af54fe8",
   "metadata": {},
   "source": [
    "                                                            Лабортатона робота 2\n",
    "1) Створити env в якому будуть встановлені всі необхідні бібліотеки та\n",
    "налаштування для данної лабораторної роботи\n",
    "\n",
    "![alternatvie text](https://img001.prntscr.com/file/img001/ftJFTYvQTNSnBo6Tnks1Fg.png)\n",
    "\n",
    "![!!](https://img001.prntscr.com/file/img001/p6vXjsP-SLOPgqu9ZNXouA.png)\n"
   ]
  },
  {
   "cell_type": "code",
   "execution_count": 7,
   "id": "f56087f0-de06-4fcf-befd-6ef94621554f",
   "metadata": {},
   "outputs": [
    {
     "ename": "ModuleNotFoundError",
     "evalue": "No module named 'panda'",
     "output_type": "error",
     "traceback": [
      "\u001b[0;31m---------------------------------------------------------------------------\u001b[0m",
      "\u001b[0;31mModuleNotFoundError\u001b[0m                       Traceback (most recent call last)",
      "Cell \u001b[0;32mIn[7], line 1\u001b[0m\n\u001b[0;32m----> 1\u001b[0m \u001b[38;5;28;01mimport\u001b[39;00m \u001b[38;5;21;01mpanda\u001b[39;00m\n",
      "\u001b[0;31mModuleNotFoundError\u001b[0m: No module named 'panda'"
     ]
    }
   ],
   "source": [
    "import panda"
   ]
  },
  {
   "cell_type": "code",
   "execution_count": null,
   "id": "d4f223ad-dbf0-40b9-a2ea-f05ff1fb664d",
   "metadata": {},
   "outputs": [],
   "source": []
  }
 ],
 "metadata": {
  "kernelspec": {
   "display_name": "Python 3 (ipykernel)",
   "language": "python",
   "name": "python3"
  },
  "language_info": {
   "codemirror_mode": {
    "name": "ipython",
    "version": 3
   },
   "file_extension": ".py",
   "mimetype": "text/x-python",
   "name": "python",
   "nbconvert_exporter": "python",
   "pygments_lexer": "ipython3",
   "version": "3.12.2"
  }
 },
 "nbformat": 4,
 "nbformat_minor": 5
}
