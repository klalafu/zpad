{
 "cells": [
  {
   "cell_type": "markdown",
   "id": "8565eece-2843-4f26-9ec2-10d7df732854",
   "metadata": {},
   "source": [
    "                                                            Лабораторна робота #4\n",
    "\n",
    "                                        Структури для роботи з великими обсягами даних в Python"
   ]
  },
  {
   "cell_type": "code",
   "execution_count": 1,
   "id": "9c288c56-fe18-495c-9e9c-191ae4513328",
   "metadata": {},
   "outputs": [],
   "source": [
    "import pandas as pd\n",
    "import numpy as np\n",
    "import time\n",
    "from datetime import datetime"
   ]
  },
  {
   "cell_type": "markdown",
   "id": "88d1b441-af4d-4baf-855d-cb7f86759b56",
   "metadata": {},
   "source": [
    "                                                            Завдання першого рівня"
   ]
  },
  {
   "cell_type": "code",
   "execution_count": 2,
   "id": "238643a6-d161-4fbe-a680-42703215caa0",
   "metadata": {},
   "outputs": [
    {
     "name": "stdout",
     "output_type": "stream",
     "text": [
      "Rows before drop: 2075258\n",
      "Rows after drop: 2049279\n"
     ]
    },
    {
     "data": {
      "text/html": [
       "<div>\n",
       "<style scoped>\n",
       "    .dataframe tbody tr th:only-of-type {\n",
       "        vertical-align: middle;\n",
       "    }\n",
       "\n",
       "    .dataframe tbody tr th {\n",
       "        vertical-align: top;\n",
       "    }\n",
       "\n",
       "    .dataframe thead th {\n",
       "        text-align: right;\n",
       "    }\n",
       "</style>\n",
       "<table border=\"1\" class=\"dataframe\">\n",
       "  <thead>\n",
       "    <tr style=\"text-align: right;\">\n",
       "      <th></th>\n",
       "      <th>Date</th>\n",
       "      <th>Time</th>\n",
       "      <th>Global_active_power</th>\n",
       "      <th>Global_reactive_power</th>\n",
       "      <th>Voltage</th>\n",
       "      <th>Global_intensity</th>\n",
       "      <th>Sub_metering_1</th>\n",
       "      <th>Sub_metering_2</th>\n",
       "      <th>Sub_metering_3</th>\n",
       "    </tr>\n",
       "  </thead>\n",
       "  <tbody>\n",
       "    <tr>\n",
       "      <th>1</th>\n",
       "      <td>16/12/2006</td>\n",
       "      <td>17:25:00</td>\n",
       "      <td>5.360</td>\n",
       "      <td>0.436</td>\n",
       "      <td>233.630</td>\n",
       "      <td>23.000</td>\n",
       "      <td>0.000</td>\n",
       "      <td>1.000</td>\n",
       "      <td>16.0</td>\n",
       "    </tr>\n",
       "    <tr>\n",
       "      <th>2</th>\n",
       "      <td>16/12/2006</td>\n",
       "      <td>17:26:00</td>\n",
       "      <td>5.374</td>\n",
       "      <td>0.498</td>\n",
       "      <td>233.290</td>\n",
       "      <td>23.000</td>\n",
       "      <td>0.000</td>\n",
       "      <td>2.000</td>\n",
       "      <td>17.0</td>\n",
       "    </tr>\n",
       "    <tr>\n",
       "      <th>3</th>\n",
       "      <td>16/12/2006</td>\n",
       "      <td>17:27:00</td>\n",
       "      <td>5.388</td>\n",
       "      <td>0.502</td>\n",
       "      <td>233.740</td>\n",
       "      <td>23.000</td>\n",
       "      <td>0.000</td>\n",
       "      <td>1.000</td>\n",
       "      <td>17.0</td>\n",
       "    </tr>\n",
       "    <tr>\n",
       "      <th>4</th>\n",
       "      <td>16/12/2006</td>\n",
       "      <td>17:28:00</td>\n",
       "      <td>3.666</td>\n",
       "      <td>0.528</td>\n",
       "      <td>235.680</td>\n",
       "      <td>15.800</td>\n",
       "      <td>0.000</td>\n",
       "      <td>1.000</td>\n",
       "      <td>17.0</td>\n",
       "    </tr>\n",
       "    <tr>\n",
       "      <th>5</th>\n",
       "      <td>16/12/2006</td>\n",
       "      <td>17:29:00</td>\n",
       "      <td>3.520</td>\n",
       "      <td>0.522</td>\n",
       "      <td>235.020</td>\n",
       "      <td>15.000</td>\n",
       "      <td>0.000</td>\n",
       "      <td>2.000</td>\n",
       "      <td>17.0</td>\n",
       "    </tr>\n",
       "  </tbody>\n",
       "</table>\n",
       "</div>"
      ],
      "text/plain": [
       "         Date      Time Global_active_power Global_reactive_power  Voltage  \\\n",
       "1  16/12/2006  17:25:00               5.360                 0.436  233.630   \n",
       "2  16/12/2006  17:26:00               5.374                 0.498  233.290   \n",
       "3  16/12/2006  17:27:00               5.388                 0.502  233.740   \n",
       "4  16/12/2006  17:28:00               3.666                 0.528  235.680   \n",
       "5  16/12/2006  17:29:00               3.520                 0.522  235.020   \n",
       "\n",
       "  Global_intensity Sub_metering_1 Sub_metering_2  Sub_metering_3  \n",
       "1           23.000          0.000          1.000            16.0  \n",
       "2           23.000          0.000          2.000            17.0  \n",
       "3           23.000          0.000          1.000            17.0  \n",
       "4           15.800          0.000          1.000            17.0  \n",
       "5           15.000          0.000          2.000            17.0  "
      ]
     },
     "execution_count": 2,
     "metadata": {},
     "output_type": "execute_result"
    }
   ],
   "source": [
    "hpc_data = pd.read_csv(\"household_power_consumption.txt\", sep=';', header=0, low_memory=False)\n",
    "hpc_data.drop(0, inplace=True)\n",
    "print(\"Rows before drop: \" + str(hpc_data.shape[0]))\n",
    "hpc_data.dropna(inplace=True)\n",
    "print(\"Rows after drop: \" + str(hpc_data.shape[0]))\n",
    "hpc_data.head()"
   ]
  },
  {
   "cell_type": "markdown",
   "id": "958f0b5e-ced7-4469-8570-ddd2b8ea093f",
   "metadata": {},
   "source": [
    "1. Обрати всі домогосподарства, у яких загальна активна споживана потужність перевищує 5 кВт."
   ]
  },
  {
   "cell_type": "code",
   "execution_count": 3,
   "id": "97fd0bc7-9730-45b0-b256-5f733c3eba4e",
   "metadata": {},
   "outputs": [
    {
     "name": "stdout",
     "output_type": "stream",
     "text": [
      "17547\n"
     ]
    },
    {
     "data": {
      "text/html": [
       "<div>\n",
       "<style scoped>\n",
       "    .dataframe tbody tr th:only-of-type {\n",
       "        vertical-align: middle;\n",
       "    }\n",
       "\n",
       "    .dataframe tbody tr th {\n",
       "        vertical-align: top;\n",
       "    }\n",
       "\n",
       "    .dataframe thead th {\n",
       "        text-align: right;\n",
       "    }\n",
       "</style>\n",
       "<table border=\"1\" class=\"dataframe\">\n",
       "  <thead>\n",
       "    <tr style=\"text-align: right;\">\n",
       "      <th></th>\n",
       "      <th>Date</th>\n",
       "      <th>Time</th>\n",
       "      <th>Global_active_power</th>\n",
       "      <th>Global_reactive_power</th>\n",
       "      <th>Voltage</th>\n",
       "      <th>Global_intensity</th>\n",
       "      <th>Sub_metering_1</th>\n",
       "      <th>Sub_metering_2</th>\n",
       "      <th>Sub_metering_3</th>\n",
       "    </tr>\n",
       "  </thead>\n",
       "  <tbody>\n",
       "    <tr>\n",
       "      <th>1</th>\n",
       "      <td>16/12/2006</td>\n",
       "      <td>17:25:00</td>\n",
       "      <td>5.360</td>\n",
       "      <td>0.436</td>\n",
       "      <td>233.630</td>\n",
       "      <td>23.000</td>\n",
       "      <td>0.000</td>\n",
       "      <td>1.000</td>\n",
       "      <td>16.0</td>\n",
       "    </tr>\n",
       "    <tr>\n",
       "      <th>2</th>\n",
       "      <td>16/12/2006</td>\n",
       "      <td>17:26:00</td>\n",
       "      <td>5.374</td>\n",
       "      <td>0.498</td>\n",
       "      <td>233.290</td>\n",
       "      <td>23.000</td>\n",
       "      <td>0.000</td>\n",
       "      <td>2.000</td>\n",
       "      <td>17.0</td>\n",
       "    </tr>\n",
       "    <tr>\n",
       "      <th>3</th>\n",
       "      <td>16/12/2006</td>\n",
       "      <td>17:27:00</td>\n",
       "      <td>5.388</td>\n",
       "      <td>0.502</td>\n",
       "      <td>233.740</td>\n",
       "      <td>23.000</td>\n",
       "      <td>0.000</td>\n",
       "      <td>1.000</td>\n",
       "      <td>17.0</td>\n",
       "    </tr>\n",
       "  </tbody>\n",
       "</table>\n",
       "</div>"
      ],
      "text/plain": [
       "         Date      Time  Global_active_power Global_reactive_power  Voltage  \\\n",
       "1  16/12/2006  17:25:00                5.360                 0.436  233.630   \n",
       "2  16/12/2006  17:26:00                5.374                 0.498  233.290   \n",
       "3  16/12/2006  17:27:00                5.388                 0.502  233.740   \n",
       "\n",
       "  Global_intensity Sub_metering_1 Sub_metering_2  Sub_metering_3  \n",
       "1           23.000          0.000          1.000            16.0  \n",
       "2           23.000          0.000          2.000            17.0  \n",
       "3           23.000          0.000          1.000            17.0  "
      ]
     },
     "execution_count": 3,
     "metadata": {},
     "output_type": "execute_result"
    }
   ],
   "source": [
    "hpc_data[\"Global_active_power\"] = pd.to_numeric(hpc_data[\"Global_active_power\"])\n",
    "start = time.time()\n",
    "t1 = hpc_data[hpc_data[\"Global_active_power\"] > 5]\n",
    "df1 = time.time() - start\n",
    "print(t1.shape[0])\n",
    "t1.head(3)"
   ]
  },
  {
   "cell_type": "markdown",
   "id": "0d7c2130-0c26-44bd-8148-0607bcb07594",
   "metadata": {},
   "source": [
    "2. Обрати всі домогосподарства, у яких вольтаж перевищую 235 В."
   ]
  },
  {
   "cell_type": "code",
   "execution_count": 4,
   "id": "5a536618-c1cb-4da1-b74c-d92d8f40a779",
   "metadata": {
    "scrolled": true
   },
   "outputs": [
    {
     "name": "stdout",
     "output_type": "stream",
     "text": [
      "1952491\n"
     ]
    },
    {
     "data": {
      "text/html": [
       "<div>\n",
       "<style scoped>\n",
       "    .dataframe tbody tr th:only-of-type {\n",
       "        vertical-align: middle;\n",
       "    }\n",
       "\n",
       "    .dataframe tbody tr th {\n",
       "        vertical-align: top;\n",
       "    }\n",
       "\n",
       "    .dataframe thead th {\n",
       "        text-align: right;\n",
       "    }\n",
       "</style>\n",
       "<table border=\"1\" class=\"dataframe\">\n",
       "  <thead>\n",
       "    <tr style=\"text-align: right;\">\n",
       "      <th></th>\n",
       "      <th>Date</th>\n",
       "      <th>Time</th>\n",
       "      <th>Global_active_power</th>\n",
       "      <th>Global_reactive_power</th>\n",
       "      <th>Voltage</th>\n",
       "      <th>Global_intensity</th>\n",
       "      <th>Sub_metering_1</th>\n",
       "      <th>Sub_metering_2</th>\n",
       "      <th>Sub_metering_3</th>\n",
       "    </tr>\n",
       "  </thead>\n",
       "  <tbody>\n",
       "    <tr>\n",
       "      <th>4</th>\n",
       "      <td>16/12/2006</td>\n",
       "      <td>17:28:00</td>\n",
       "      <td>3.666</td>\n",
       "      <td>0.528</td>\n",
       "      <td>235.68</td>\n",
       "      <td>15.800</td>\n",
       "      <td>0.000</td>\n",
       "      <td>1.000</td>\n",
       "      <td>17.0</td>\n",
       "    </tr>\n",
       "    <tr>\n",
       "      <th>5</th>\n",
       "      <td>16/12/2006</td>\n",
       "      <td>17:29:00</td>\n",
       "      <td>3.520</td>\n",
       "      <td>0.522</td>\n",
       "      <td>235.02</td>\n",
       "      <td>15.000</td>\n",
       "      <td>0.000</td>\n",
       "      <td>2.000</td>\n",
       "      <td>17.0</td>\n",
       "    </tr>\n",
       "    <tr>\n",
       "      <th>6</th>\n",
       "      <td>16/12/2006</td>\n",
       "      <td>17:30:00</td>\n",
       "      <td>3.702</td>\n",
       "      <td>0.520</td>\n",
       "      <td>235.09</td>\n",
       "      <td>15.800</td>\n",
       "      <td>0.000</td>\n",
       "      <td>1.000</td>\n",
       "      <td>17.0</td>\n",
       "    </tr>\n",
       "  </tbody>\n",
       "</table>\n",
       "</div>"
      ],
      "text/plain": [
       "         Date      Time  Global_active_power Global_reactive_power  Voltage  \\\n",
       "4  16/12/2006  17:28:00                3.666                 0.528   235.68   \n",
       "5  16/12/2006  17:29:00                3.520                 0.522   235.02   \n",
       "6  16/12/2006  17:30:00                3.702                 0.520   235.09   \n",
       "\n",
       "  Global_intensity Sub_metering_1 Sub_metering_2  Sub_metering_3  \n",
       "4           15.800          0.000          1.000            17.0  \n",
       "5           15.000          0.000          2.000            17.0  \n",
       "6           15.800          0.000          1.000            17.0  "
      ]
     },
     "execution_count": 4,
     "metadata": {},
     "output_type": "execute_result"
    }
   ],
   "source": [
    "hpc_data[\"Voltage\"] = pd.to_numeric(hpc_data[\"Voltage\"])\n",
    "start = time.time()\n",
    "t2 = hpc_data[hpc_data[\"Voltage\"] > 235]\n",
    "df2 = time.time() - start\n",
    "print(t2.shape[0])\n",
    "t2.head(3)"
   ]
  },
  {
   "cell_type": "markdown",
   "id": "7a8f8f42-4643-42a5-af55-c1d77ad9ad1e",
   "metadata": {},
   "source": [
    "3. Обрати всі домогосподарства, у яких сила струму лежить в межах 19-20 А, для них виявити ті, у яких пральна машина та холодильних споживають більше, ніж бойлер та кондиціонер."
   ]
  },
  {
   "cell_type": "code",
   "execution_count": 5,
   "id": "2450fa30-9b85-4dd2-9b27-82eb0c1b023b",
   "metadata": {},
   "outputs": [
    {
     "name": "stdout",
     "output_type": "stream",
     "text": [
      "2509\n"
     ]
    },
    {
     "data": {
      "text/html": [
       "<div>\n",
       "<style scoped>\n",
       "    .dataframe tbody tr th:only-of-type {\n",
       "        vertical-align: middle;\n",
       "    }\n",
       "\n",
       "    .dataframe tbody tr th {\n",
       "        vertical-align: top;\n",
       "    }\n",
       "\n",
       "    .dataframe thead th {\n",
       "        text-align: right;\n",
       "    }\n",
       "</style>\n",
       "<table border=\"1\" class=\"dataframe\">\n",
       "  <thead>\n",
       "    <tr style=\"text-align: right;\">\n",
       "      <th></th>\n",
       "      <th>Date</th>\n",
       "      <th>Time</th>\n",
       "      <th>Global_active_power</th>\n",
       "      <th>Global_reactive_power</th>\n",
       "      <th>Voltage</th>\n",
       "      <th>Global_intensity</th>\n",
       "      <th>Sub_metering_1</th>\n",
       "      <th>Sub_metering_2</th>\n",
       "      <th>Sub_metering_3</th>\n",
       "    </tr>\n",
       "  </thead>\n",
       "  <tbody>\n",
       "    <tr>\n",
       "      <th>45</th>\n",
       "      <td>16/12/2006</td>\n",
       "      <td>18:09:00</td>\n",
       "      <td>4.464</td>\n",
       "      <td>0.136</td>\n",
       "      <td>234.66</td>\n",
       "      <td>19.0</td>\n",
       "      <td>0.000</td>\n",
       "      <td>37.0</td>\n",
       "      <td>16.0</td>\n",
       "    </tr>\n",
       "    <tr>\n",
       "      <th>460</th>\n",
       "      <td>17/12/2006</td>\n",
       "      <td>01:04:00</td>\n",
       "      <td>4.582</td>\n",
       "      <td>0.258</td>\n",
       "      <td>238.08</td>\n",
       "      <td>19.6</td>\n",
       "      <td>0.000</td>\n",
       "      <td>13.0</td>\n",
       "      <td>0.0</td>\n",
       "    </tr>\n",
       "    <tr>\n",
       "      <th>464</th>\n",
       "      <td>17/12/2006</td>\n",
       "      <td>01:08:00</td>\n",
       "      <td>4.618</td>\n",
       "      <td>0.104</td>\n",
       "      <td>239.61</td>\n",
       "      <td>19.6</td>\n",
       "      <td>0.000</td>\n",
       "      <td>27.0</td>\n",
       "      <td>0.0</td>\n",
       "    </tr>\n",
       "  </tbody>\n",
       "</table>\n",
       "</div>"
      ],
      "text/plain": [
       "           Date      Time  Global_active_power Global_reactive_power  Voltage  \\\n",
       "45   16/12/2006  18:09:00                4.464                 0.136   234.66   \n",
       "460  17/12/2006  01:04:00                4.582                 0.258   238.08   \n",
       "464  17/12/2006  01:08:00                4.618                 0.104   239.61   \n",
       "\n",
       "     Global_intensity Sub_metering_1  Sub_metering_2  Sub_metering_3  \n",
       "45               19.0          0.000            37.0            16.0  \n",
       "460              19.6          0.000            13.0             0.0  \n",
       "464              19.6          0.000            27.0             0.0  "
      ]
     },
     "execution_count": 5,
     "metadata": {},
     "output_type": "execute_result"
    }
   ],
   "source": [
    "hpc_data[\"Global_intensity\"] = pd.to_numeric(hpc_data[\"Global_intensity\"])\n",
    "hpc_data[\"Sub_metering_2\"] = pd.to_numeric(hpc_data[\"Sub_metering_2\"])\n",
    "hpc_data[\"Sub_metering_3\"] = pd.to_numeric(hpc_data[\"Sub_metering_3\"])\n",
    "start = time.time()\n",
    "t3 = hpc_data[(hpc_data[\"Global_intensity\"].between(19,20)) \n",
    "        & (hpc_data[\"Sub_metering_2\"] > hpc_data[\"Sub_metering_3\"])]\n",
    "df3 = time.time() - start\n",
    "print(t3.shape[0])\n",
    "t3.head(3)"
   ]
  },
  {
   "cell_type": "markdown",
   "id": "acddf671-c805-49c1-a4db-4d3cf24d921a",
   "metadata": {},
   "source": [
    "4. Обрати випадковим чином 500000 домогосподарств (без повторів елементів вибірки), для них обчислити середні величини усіх 3-х груп споживання електричної енергії"
   ]
  },
  {
   "cell_type": "code",
   "execution_count": 6,
   "id": "325acd40-55be-4a4d-aac5-3b409246d1ad",
   "metadata": {},
   "outputs": [
    {
     "name": "stdout",
     "output_type": "stream",
     "text": [
      "Mean watt-hour for sub metering 1: 1.107678\n",
      "Mean watt-hour for sub metering 2: 1.289158\n",
      "Mean watt-hour for sub metering 3: 6.439238\n",
      "\n"
     ]
    }
   ],
   "source": [
    "hpc_data[\"Sub_metering_1\"] = pd.to_numeric(hpc_data[\"Sub_metering_1\"])\n",
    "start = time.time()\n",
    "hpc_rand = hpc_data.sample(n=500000)\n",
    "sub1_avg = hpc_rand[\"Sub_metering_1\"].mean()\n",
    "sub2_avg = hpc_rand[\"Sub_metering_2\"].mean()\n",
    "sub3_avg = hpc_rand[\"Sub_metering_3\"].mean()\n",
    "df4 = time.time() - start\n",
    "print(f\"Mean watt-hour for sub metering 1: {sub1_avg}\\nMean watt-hour for sub metering 2: {sub2_avg}\\nMean watt-hour for sub metering 3: {sub3_avg}\\n\")"
   ]
  },
  {
   "cell_type": "markdown",
   "id": "1b95e8a0-55e2-407a-b084-f2eaab3212ca",
   "metadata": {},
   "source": [
    "5. Обрати ті домогосподарства, які після 18-00 споживають понад 6 кВт за хвилину в середньому, серед відібраних визначити ті, у яких основне споживання електроенергії у вказаний проміжок часу припадає на пральну машину, сушарку, холодильник та освітлення (група 2 є найбільшою), а потім обрати кожен третій результат із першої половини та кожен четвертий результат із другої половини."
   ]
  },
  {
   "cell_type": "code",
   "execution_count": 7,
   "id": "4daa4cff-45f1-4ae9-a874-9a2c5d3d95f7",
   "metadata": {},
   "outputs": [
    {
     "name": "stdout",
     "output_type": "stream",
     "text": [
      "Rows: 177\n",
      "             Date                Time  Global_active_power  \\\n",
      "41     16/12/2006 1900-01-01 18:05:00                6.052   \n",
      "44     16/12/2006 1900-01-01 18:08:00                6.308   \n",
      "17494  28/12/2006 1900-01-01 20:58:00                6.386   \n",
      "\n",
      "      Global_reactive_power  Voltage  Global_intensity  Sub_metering_1  \\\n",
      "41                    0.192   232.93              26.2             0.0   \n",
      "44                    0.116   232.25              27.0             0.0   \n",
      "17494                 0.374   236.63              27.0             1.0   \n",
      "\n",
      "       Sub_metering_2  Sub_metering_3  \n",
      "41               37.0            17.0  \n",
      "44               36.0            17.0  \n",
      "17494            36.0            17.0  \n",
      "\n",
      "Rows: 133\n",
      "             Date                Time  Global_active_power  \\\n",
      "707260  20/4/2008 1900-01-01 21:04:00                7.756   \n",
      "707264  20/4/2008 1900-01-01 21:08:00                6.366   \n",
      "707268  20/4/2008 1900-01-01 21:12:00                6.378   \n",
      "\n",
      "       Global_reactive_power  Voltage  Global_intensity  Sub_metering_1  \\\n",
      "707260                 0.348   232.11              33.4             1.0   \n",
      "707264                 0.368   232.97              27.4             2.0   \n",
      "707268                 0.300   232.96              27.4             1.0   \n",
      "\n",
      "        Sub_metering_2  Sub_metering_3  \n",
      "707260            72.0            17.0  \n",
      "707264            37.0            18.0  \n",
      "707268            36.0            17.0  \n"
     ]
    }
   ],
   "source": [
    "hpc5 = hpc_data\n",
    "hpc5['Time'] = pd.to_datetime(hpc5['Time'],format='%H:%M:%S')\n",
    "start = time.time()\n",
    "filter = hpc5[(hpc5['Time'] > pd.Timestamp(1900, 1, 1, 18))\n",
    "            & (hpc5['Global_active_power'] > 6)\n",
    "            & (hpc5[\"Sub_metering_2\"] > hpc5[\"Sub_metering_1\"]) \n",
    "            & (hpc5[\"Sub_metering_2\"] > hpc5[\"Sub_metering_3\"])]\n",
    "median = filter.shape[0]//2\n",
    "slice1 = filter[:median:3]\n",
    "slice2 = filter[median::4]\n",
    "df5 = time.time() - start\n",
    "print(f\"Rows: {slice1.shape[0]}\\n{slice1.head(3)}\\n\")\n",
    "print(f\"Rows: {slice2.shape[0]}\\n{slice2.head(3)}\")"
   ]
  },
  {
   "cell_type": "markdown",
   "id": "f6a142d8-ab12-452b-9a9d-fd4ccf04f522",
   "metadata": {},
   "source": [
    "Numpy array"
   ]
  },
  {
   "cell_type": "markdown",
   "id": "225cc696-b4e3-4206-951e-7a8bedd051ab",
   "metadata": {},
   "source": [
    "1. Обрати всі домогосподарства, у яких загальна активна споживана потужність перевищує 5 кВт."
   ]
  },
  {
   "cell_type": "code",
   "execution_count": 8,
   "id": "81bdfb79-923a-42eb-8c49-b5df6a209add",
   "metadata": {},
   "outputs": [
    {
     "name": "stdout",
     "output_type": "stream",
     "text": [
      "17547\n"
     ]
    },
    {
     "data": {
      "text/plain": [
       "array([['16/12/2006', Timestamp('1900-01-01 17:25:00'), 5.36, ..., 0.0,\n",
       "        1.0, 16.0],\n",
       "       ['16/12/2006', Timestamp('1900-01-01 17:26:00'), 5.374, ..., 0.0,\n",
       "        2.0, 17.0],\n",
       "       ['16/12/2006', Timestamp('1900-01-01 17:27:00'), 5.388, ..., 0.0,\n",
       "        1.0, 17.0],\n",
       "       ...,\n",
       "       ['24/11/2010', Timestamp('1900-01-01 07:50:00'), 5.172, ..., 0.0,\n",
       "        38.0, 17.0],\n",
       "       ['24/11/2010', Timestamp('1900-01-01 07:51:00'), 5.75, ..., 0.0,\n",
       "        39.0, 17.0],\n",
       "       ['25/11/2010', Timestamp('1900-01-01 07:21:00'), 5.074, ..., 1.0,\n",
       "        2.0, 18.0]], dtype=object)"
      ]
     },
     "execution_count": 8,
     "metadata": {},
     "output_type": "execute_result"
    }
   ],
   "source": [
    "npa = hpc_data.to_numpy()\n",
    "start = time.time()\n",
    "t1 = npa[npa[:, 2] > 5]\n",
    "np1 = time.time() - start\n",
    "print(t1.shape[0])\n",
    "t1"
   ]
  },
  {
   "cell_type": "markdown",
   "id": "59ccbea5-a5f4-49e0-b9cb-e214ee987272",
   "metadata": {},
   "source": [
    "2. Обрати всі домогосподарства, у яких вольтаж перевищую 235 В."
   ]
  },
  {
   "cell_type": "code",
   "execution_count": 9,
   "id": "59bf5acf-6a49-40e7-8846-50b95259b3c7",
   "metadata": {},
   "outputs": [
    {
     "name": "stdout",
     "output_type": "stream",
     "text": [
      "1952491\n"
     ]
    },
    {
     "data": {
      "text/plain": [
       "array([['16/12/2006', Timestamp('1900-01-01 17:28:00'), 3.666, ..., 0.0,\n",
       "        1.0, 17.0],\n",
       "       ['16/12/2006', Timestamp('1900-01-01 17:29:00'), 3.52, ..., 0.0,\n",
       "        2.0, 17.0],\n",
       "       ['16/12/2006', Timestamp('1900-01-01 17:30:00'), 3.702, ..., 0.0,\n",
       "        1.0, 17.0],\n",
       "       ...,\n",
       "       ['26/11/2010', Timestamp('1900-01-01 21:00:00'), 0.938, ..., 0.0,\n",
       "        0.0, 0.0],\n",
       "       ['26/11/2010', Timestamp('1900-01-01 21:01:00'), 0.934, ..., 0.0,\n",
       "        0.0, 0.0],\n",
       "       ['26/11/2010', Timestamp('1900-01-01 21:02:00'), 0.932, ..., 0.0,\n",
       "        0.0, 0.0]], dtype=object)"
      ]
     },
     "execution_count": 9,
     "metadata": {},
     "output_type": "execute_result"
    }
   ],
   "source": [
    "start = time.time()\n",
    "t2 = npa[npa[:, 4] > 235]\n",
    "np2 = time.time() - start\n",
    "print(t2.shape[0])\n",
    "t2"
   ]
  },
  {
   "cell_type": "markdown",
   "id": "9e65f1a6-21eb-4628-9e62-d89bcc41e019",
   "metadata": {},
   "source": [
    "3. Обрати всі домогосподарства, у яких сила струму лежить в межах 19-20 А, для них виявити ті, у яких пральна машина та холодильних споживають більше, ніж бойлер та кондиціонер."
   ]
  },
  {
   "cell_type": "code",
   "execution_count": 10,
   "id": "f509acf5-5c84-4b63-bd73-17452a8e15fe",
   "metadata": {},
   "outputs": [
    {
     "name": "stdout",
     "output_type": "stream",
     "text": [
      "1678\n"
     ]
    },
    {
     "data": {
      "text/plain": [
       "array([['17/12/2006', Timestamp('1900-01-01 01:04:00'), 4.582, ..., 0.0,\n",
       "        13.0, 0.0],\n",
       "       ['17/12/2006', Timestamp('1900-01-01 01:08:00'), 4.618, ..., 0.0,\n",
       "        27.0, 0.0],\n",
       "       ['17/12/2006', Timestamp('1900-01-01 01:19:00'), 4.636, ..., 0.0,\n",
       "        36.0, 0.0],\n",
       "       ...,\n",
       "       ['24/11/2010', Timestamp('1900-01-01 07:54:00'), 4.694, ..., 0.0,\n",
       "        39.0, 18.0],\n",
       "       ['24/11/2010', Timestamp('1900-01-01 07:55:00'), 4.602, ..., 0.0,\n",
       "        40.0, 17.0],\n",
       "       ['24/11/2010', Timestamp('1900-01-01 07:57:00'), 4.626, ..., 0.0,\n",
       "        39.0, 17.0]], dtype=object)"
      ]
     },
     "execution_count": 10,
     "metadata": {},
     "output_type": "execute_result"
    }
   ],
   "source": [
    "start = time.time()\n",
    "t3 = npa[(npa[:, 5] > 19)\n",
    "  & (npa[:, 5] < 20)\n",
    "  & (npa[:, 7] > npa[:, 8])]\n",
    "np3 = time.time() - start\n",
    "print(t3.shape[0])\n",
    "t3"
   ]
  },
  {
   "cell_type": "markdown",
   "id": "1ac38194-5f38-4280-b1e2-3fc42e156db7",
   "metadata": {},
   "source": [
    "4. Обрати випадковим чином 500000 домогосподарств (без повторів елементів вибірки), для них обчислити середні величини усіх 3-х груп споживання електричної енергії"
   ]
  },
  {
   "cell_type": "code",
   "execution_count": 11,
   "id": "0f7a4cef-5629-4665-b70f-348ccf549664",
   "metadata": {},
   "outputs": [
    {
     "name": "stdout",
     "output_type": "stream",
     "text": [
      "Mean watt-hour for sub metering 1: 1.13095\n",
      "Mean watt-hour for sub metering 2: 1.297704\n",
      "Mean watt-hour for sub metering 3: 6.473596\n",
      "\n"
     ]
    }
   ],
   "source": [
    "start = time.time()\n",
    "idx = np.random.choice(npa.shape[0], 500000, replace=True)\n",
    "rand = npa[idx]\n",
    "sub1_avg = np.mean(rand[:, 6])\n",
    "sub2_avg = np.mean(rand[:, 7])\n",
    "sub3_avg = np.mean(rand[:, 8])\n",
    "np4 = time.time() - start\n",
    "print(f\"Mean watt-hour for sub metering 1: {sub1_avg}\\nMean watt-hour for sub metering 2: {sub2_avg}\\nMean watt-hour for sub metering 3: {sub3_avg}\\n\")"
   ]
  },
  {
   "cell_type": "markdown",
   "id": "7c322d40-f14a-44ad-84f4-b1a6b60ba411",
   "metadata": {},
   "source": [
    "5. Обрати ті домогосподарства, які після 18-00 споживають понад 6 кВт за хвилину в середньому, серед відібраних визначити ті, у яких основне споживання електроенергії у вказаний проміжок часу припадає на пральну машину, сушарку, холодильник та освітлення (група 2 є найбільшою), а потім обрати кожен третій результат із першої половини та кожен четвертий результат із другої половини."
   ]
  },
  {
   "cell_type": "code",
   "execution_count": 14,
   "id": "54d11a31-413e-4edf-b5fe-f741505457fa",
   "metadata": {},
   "outputs": [
    {
     "name": "stdout",
     "output_type": "stream",
     "text": [
      "Rows: 177\n",
      "[['16/12/2006' Timestamp('1900-01-01 18:05:00') 6.052 ... 0.0 37.0 17.0]\n",
      " ['16/12/2006' Timestamp('1900-01-01 18:08:00') 6.308 ... 0.0 36.0 17.0]\n",
      " ['28/12/2006' Timestamp('1900-01-01 20:58:00') 6.386 ... 1.0 36.0 17.0]\n",
      " ...\n",
      " ['23/3/2008' Timestamp('1900-01-01 20:36:00') 6.708 ... 0.0 73.0 16.0]\n",
      " ['20/4/2008' Timestamp('1900-01-01 21:00:00') 8.268 ... 1.0 72.0 17.0]\n",
      " ['20/4/2008' Timestamp('1900-01-01 21:03:00') 7.798 ... 1.0 71.0 17.0]]\n",
      "\n",
      "Rows: 133\n",
      "[['20/4/2008' Timestamp('1900-01-01 21:04:00') 7.756 ... 1.0 72.0 17.0]\n",
      " ['20/4/2008' Timestamp('1900-01-01 21:08:00') 6.366 ... 2.0 37.0 18.0]\n",
      " ['20/4/2008' Timestamp('1900-01-01 21:12:00') 6.378 ... 1.0 36.0 17.0]\n",
      " ...\n",
      " ['20/11/2010' Timestamp('1900-01-01 18:39:00') 6.362 ... 16.0 35.0 16.0]\n",
      " ['20/11/2010' Timestamp('1900-01-01 18:43:00') 6.324 ... 14.0 35.0 17.0]\n",
      " ['20/11/2010' Timestamp('1900-01-01 18:49:00') 6.21 ... 21.0 34.0 17.0]]\n"
     ]
    }
   ],
   "source": [
    "start = time.time()\n",
    "filter = npa[(npa[:, 1] > pd.Timestamp(1900, 1, 1, 18))\n",
    "            & (npa[:, 2] > 6)\n",
    "            & (npa[:, 7] > npa[:, 6])\n",
    "            & (npa[:, 7] > npa[:, 8])]\n",
    "median = filter.shape[0]//2\n",
    "slice1 = filter[:median:3]\n",
    "slice2 = filter[median::4]\n",
    "np5 = time.time() - start\n",
    "print(f\"Rows: {slice1.shape[0]}\\n{slice1}\\n\")\n",
    "print(f\"Rows: {slice2.shape[0]}\\n{slice2}\")"
   ]
  },
  {
   "cell_type": "code",
   "execution_count": 15,
   "id": "d434e0f3-0ac7-4dd1-8d73-2ee08c0a6a71",
   "metadata": {},
   "outputs": [
    {
     "data": {
      "text/html": [
       "<div>\n",
       "<style scoped>\n",
       "    .dataframe tbody tr th:only-of-type {\n",
       "        vertical-align: middle;\n",
       "    }\n",
       "\n",
       "    .dataframe tbody tr th {\n",
       "        vertical-align: top;\n",
       "    }\n",
       "\n",
       "    .dataframe thead th {\n",
       "        text-align: right;\n",
       "    }\n",
       "</style>\n",
       "<table border=\"1\" class=\"dataframe\">\n",
       "  <thead>\n",
       "    <tr style=\"text-align: right;\">\n",
       "      <th></th>\n",
       "      <th>DataFrame</th>\n",
       "      <th>Numpy array</th>\n",
       "    </tr>\n",
       "  </thead>\n",
       "  <tbody>\n",
       "    <tr>\n",
       "      <th>0</th>\n",
       "      <td>0.005293</td>\n",
       "      <td>0.039514</td>\n",
       "    </tr>\n",
       "    <tr>\n",
       "      <th>1</th>\n",
       "      <td>0.119807</td>\n",
       "      <td>0.345336</td>\n",
       "    </tr>\n",
       "    <tr>\n",
       "      <th>2</th>\n",
       "      <td>0.008281</td>\n",
       "      <td>0.090839</td>\n",
       "    </tr>\n",
       "    <tr>\n",
       "      <th>3</th>\n",
       "      <td>0.151741</td>\n",
       "      <td>0.875184</td>\n",
       "    </tr>\n",
       "    <tr>\n",
       "      <th>4</th>\n",
       "      <td>0.011236</td>\n",
       "      <td>0.339818</td>\n",
       "    </tr>\n",
       "  </tbody>\n",
       "</table>\n",
       "</div>"
      ],
      "text/plain": [
       "   DataFrame  Numpy array\n",
       "0   0.005293     0.039514\n",
       "1   0.119807     0.345336\n",
       "2   0.008281     0.090839\n",
       "3   0.151741     0.875184\n",
       "4   0.011236     0.339818"
      ]
     },
     "execution_count": 15,
     "metadata": {},
     "output_type": "execute_result"
    }
   ],
   "source": [
    "result = {'DataFrame': [df1,df2,df3,df4,df5 ], 'Numpy array': [np1,np2,np3,np4,np5]}\n",
    "pd.DataFrame.from_dict(result)"
   ]
  },
  {
   "cell_type": "code",
   "execution_count": null,
   "id": "699503d7-0def-4fc7-ab2d-53b54b077794",
   "metadata": {},
   "outputs": [],
   "source": []
  }
 ],
 "metadata": {
  "kernelspec": {
   "display_name": "Python 3 (ipykernel)",
   "language": "python",
   "name": "python3"
  },
  "language_info": {
   "codemirror_mode": {
    "name": "ipython",
    "version": 3
   },
   "file_extension": ".py",
   "mimetype": "text/x-python",
   "name": "python",
   "nbconvert_exporter": "python",
   "pygments_lexer": "ipython3",
   "version": "3.12.2"
  }
 },
 "nbformat": 4,
 "nbformat_minor": 5
}
